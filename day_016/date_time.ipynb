{
 "cells": [
  {
   "cell_type": "code",
   "execution_count": 1,
   "metadata": {},
   "outputs": [
    {
     "name": "stdout",
     "output_type": "stream",
     "text": [
      "2023-12-21 20:35:29.090378\n"
     ]
    }
   ],
   "source": [
    "from datetime import datetime\n",
    "now = datetime.now()\n",
    "print(now)"
   ]
  },
  {
   "cell_type": "code",
   "execution_count": 2,
   "metadata": {},
   "outputs": [
    {
     "name": "stdout",
     "output_type": "stream",
     "text": [
      "21 12 2023 20 35\n",
      "timestamp 1703187329.090378\n"
     ]
    }
   ],
   "source": [
    "day = now.day                   # 8\n",
    "month = now.month               # 7\n",
    "year = now.year                 # 2021\n",
    "hour = now.hour                 # 7\n",
    "minute = now.minute             # 38\n",
    "second = now.second\n",
    "timestamp = now.timestamp()\n",
    "print(day, month, year, hour, minute)\n",
    "print('timestamp', timestamp)"
   ]
  },
  {
   "cell_type": "code",
   "execution_count": 3,
   "metadata": {},
   "outputs": [
    {
     "name": "stdout",
     "output_type": "stream",
     "text": [
      "time: 20:35:29\n",
      "time one: 12/21/2023, 20:35:29\n",
      "time two: 21/12/2023, 20:35:29\n"
     ]
    }
   ],
   "source": [
    "t = now.strftime(\"%H:%M:%S\")\n",
    "print(\"time:\", t)\n",
    "time_one = now.strftime(\"%m/%d/%Y, %H:%M:%S\")\n",
    "# mm/dd/YY H:M:S format\n",
    "print(\"time one:\", time_one)\n",
    "time_two = now.strftime(\"%d/%m/%Y, %H:%M:%S\")\n",
    "# dd/mm/YY H:M:S format\n",
    "print(\"time two:\", time_two)"
   ]
  },
  {
   "cell_type": "code",
   "execution_count": 4,
   "metadata": {},
   "outputs": [
    {
     "name": "stdout",
     "output_type": "stream",
     "text": [
      "2020-01-01\n",
      "Current date: 2023-12-21\n",
      "Current year: 2023\n",
      "Current month: 12\n",
      "Current day: 21\n"
     ]
    }
   ],
   "source": [
    "from datetime import date\n",
    "d = date(2020, 1, 1)\n",
    "print(d)\n",
    "print('Current date:', d.today())    # 2019-12-05\n",
    "# date object of today's date\n",
    "today = date.today()\n",
    "print(\"Current year:\", today.year)   # 2019\n",
    "print(\"Current month:\", today.month) # 12\n",
    "print(\"Current day:\", today.day)     # 5"
   ]
  },
  {
   "cell_type": "code",
   "execution_count": 7,
   "metadata": {},
   "outputs": [
    {
     "name": "stdout",
     "output_type": "stream",
     "text": [
      "Time left for new year:  27 days, 0:00:00\n",
      "Time left for new year: 26 days, 23:01:00\n"
     ]
    }
   ],
   "source": [
    "today = date(year=2019, month=12, day=5)\n",
    "new_year = date(year=2020, month=1, day=1)\n",
    "time_left_for_newyear = new_year - today\n",
    "# Time left for new year:  27 days, 0:00:00\n",
    "print('Time left for new year: ', time_left_for_newyear)\n",
    "\n",
    "t1 = datetime(year = 2019, month = 12, day = 5, hour = 0, minute = 59, second = 0)\n",
    "t2 = datetime(year = 2020, month = 1, day = 1, hour = 0, minute = 0, second = 0)\n",
    "diff = t2 - t1\n",
    "print('Time left for new year:', diff) # Time left for new year: 26 days, 23: 01: 00"
   ]
  },
  {
   "cell_type": "code",
   "execution_count": 8,
   "metadata": {},
   "outputs": [
    {
     "name": "stdout",
     "output_type": "stream",
     "text": [
      "Current Date: 12/21/2023\n",
      "Current Time: 20:50\n",
      "Timestamp: 1703188223.45113\n",
      "Formatted Date: 12/21/2023, 20:50:23\n",
      "Time: 2019-12-05 00:00:00\n",
      "Time until New Year: 10 days, 3:09:36.548870\n"
     ]
    }
   ],
   "source": [
    "from datetime import datetime\n",
    "\n",
    "now = datetime.now()\n",
    "current_day = now.day\n",
    "current_month = now.month\n",
    "current_year = now.year\n",
    "current_hour = now.hour\n",
    "current_minute = now.minute\n",
    "current_timestamp = datetime.timestamp(now)\n",
    "\n",
    "print(f\"Current Date: {current_month}/{current_day}/{current_year}\")\n",
    "print(f\"Current Time: {current_hour}:{current_minute}\")\n",
    "print(f\"Timestamp: {current_timestamp}\")\n",
    "\n",
    "\n",
    "formatted_date = now.strftime(\"%m/%d/%Y, %H:%M:%S\")\n",
    "print(f\"Formatted Date: {formatted_date}\")\n",
    "\n",
    "\n",
    "time_string = \"5 December, 2019\"\n",
    "time = datetime.strptime(time_string, \"%d %B, %Y\")\n",
    "print(f\"Time: {time}\")\n",
    "\n",
    "\n",
    "new_year = datetime(current_year + 1, 1, 1)\n",
    "time_diff = new_year - now\n",
    "print(f\"Time until New Year: {time_diff}\")\n"
   ]
  }
 ],
 "metadata": {
  "kernelspec": {
   "display_name": "base",
   "language": "python",
   "name": "python3"
  },
  "language_info": {
   "codemirror_mode": {
    "name": "ipython",
    "version": 3
   },
   "file_extension": ".py",
   "mimetype": "text/x-python",
   "name": "python",
   "nbconvert_exporter": "python",
   "pygments_lexer": "ipython3",
   "version": "3.11.5"
  }
 },
 "nbformat": 4,
 "nbformat_minor": 2
}
