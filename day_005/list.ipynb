{
 "cells": [
  {
   "cell_type": "code",
   "execution_count": 1,
   "metadata": {},
   "outputs": [
    {
     "name": "stdout",
     "output_type": "stream",
     "text": [
      "Germany\n",
      "France\n",
      "Belgium\n",
      "Sweden\n",
      "['Denmark', 'Finland', 'Norway', 'Iceland']\n",
      "Estonia\n"
     ]
    }
   ],
   "source": [
    "countries = ['Germany', 'France','Belgium','Sweden','Denmark','Finland','Norway','Iceland','Estonia']\n",
    "gr, fr, bg, sw, *scandic, es = countries\n",
    "print(gr)\n",
    "print(fr)\n",
    "print(bg)\n",
    "print(sw)\n",
    "print(scandic)\n",
    "print(es)"
   ]
  },
  {
   "cell_type": "code",
   "execution_count": 2,
   "metadata": {},
   "outputs": [],
   "source": [
    "fruits = ['banana', 'orange', 'mango', 'lemon']\n",
    "all_fruits = fruits[0:4] # it returns all the fruits\n",
    "# this will also give the same result as the one above\n",
    "all_fruits = fruits[0:] # if we don't set where to stop it takes all the rest\n",
    "orange_and_mango = fruits[1:3] # it does not include the first index\n",
    "orange_mango_lemon = fruits[1:]\n",
    "orange_and_lemon = fruits[::2] # here we used a 3rd argument, step. It will take every 2cnd item - ['banana', 'mango']"
   ]
  },
  {
   "cell_type": "code",
   "execution_count": 3,
   "metadata": {},
   "outputs": [
    {
     "name": "stdout",
     "output_type": "stream",
     "text": [
      "5\n"
     ]
    }
   ],
   "source": [
    "lst = []\n",
    "lst2 = ['one','two','three','four','five']\n",
    "print(len(lst2))\n",
    "first_item = lst2[0]\n",
    "middle_item = lst2[2]\n",
    "last_item = lst2[-1]\n"
   ]
  },
  {
   "cell_type": "code",
   "execution_count": 4,
   "metadata": {},
   "outputs": [
    {
     "name": "stdout",
     "output_type": "stream",
     "text": [
      "['Facebook', 'Google', 'Microsoft', 'Apple', 'IBM', 'Oracle', 'Amazon']\n",
      "7\n",
      "Facebook\n",
      "Apple\n",
      "Amazon\n",
      "['Facebook', 'Google', 'Instagram', 'Apple', 'IBM', 'Oracle', 'Amazon']\n"
     ]
    }
   ],
   "source": [
    "mixed_data = ['zara/'u'/',28,5.6,True,'no 2 aliero housing estate']\n",
    "it_companies = ['Facebook','Google','Microsoft','Apple','IBM','Oracle','Amazon']\n",
    "print(it_companies)\n",
    "print(len(it_companies))\n",
    "print(it_companies[0])\n",
    "print(it_companies[3])\n",
    "print(it_companies[-1])\n",
    "it_companies[2] = 'Instagram'\n",
    "print(it_companies)\n",
    "\n"
   ]
  },
  {
   "cell_type": "code",
   "execution_count": 7,
   "metadata": {},
   "outputs": [
    {
     "name": "stdout",
     "output_type": "stream",
     "text": [
      "ORACLE\n",
      "max air#flutter wave#Oracle#flutter wave#Instagram#IBM#Google#Facebook#Apple#Amazon#max air\n",
      "True\n",
      "['Amazon', 'Apple', 'Facebook', 'Google', 'IBM', 'Instagram', 'Oracle', 'flutter wave', 'flutter wave', 'max air', 'max air']\n",
      "['max air', 'max air', 'flutter wave', 'flutter wave', 'Oracle', 'Instagram', 'IBM', 'Google', 'Facebook', 'Apple', 'Amazon']\n",
      "['flutter wave', 'Oracle', 'Instagram', 'IBM', 'Google', 'Facebook', 'Apple', 'Amazon']\n",
      "['max air', 'max air', 'flutter wave']\n",
      "['max air', 'max air', 'flutter wave', 'flutter wave', 'Oracle', 'Instagram', 'IBM', 'Google']\n"
     ]
    }
   ],
   "source": [
    "# Add an IT company to it_companies\n",
    "it_companies.append('max air')\n",
    "\n",
    "# Insert an IT company in the middle of the companies list\n",
    "it_companies.insert(3,'flutter wave')\n",
    "# Change one of the it_companies names to uppercase (IBM excluded!)\n",
    "print(it_companies[2].upper())\n",
    "# Join the it_companies with a string '#;  '\n",
    "print('#'.join(it_companies))\n",
    "# Check if a certain company exists in the it_companies list.\n",
    "print('Amazon' in it_companies)\n",
    "# Sort the list using sort() method\n",
    "it_companies.sort()\n",
    "print(it_companies)\n",
    "# Reverse the list in descending order using reverse() method\n",
    "it_companies.reverse()\n",
    "print(it_companies)\n",
    "# Slice out the first 3 companies from the list\n",
    "print(it_companies[3:])\n",
    "# Slice out the last 3 companies from the list\n",
    "print(it_companies[:3])\n",
    "# Slice out the middle IT company or companies from the list\n",
    "print(it_companies[0:-3])\n",
    "\n"
   ]
  },
  {
   "cell_type": "code",
   "execution_count": 6,
   "metadata": {},
   "outputs": [
    {
     "name": "stdout",
     "output_type": "stream",
     "text": [
      "['HTML', 'CSS', 'JS', 'React', 'Redux', 'Node', 'Express', 'MongoDB']\n"
     ]
    }
   ],
   "source": [
    "front_end = ['HTML', 'CSS', 'JS', 'React', 'Redux']\n",
    "back_end = ['Node','Express', 'MongoDB']\n",
    "\n",
    "full_stack = front_end + back_end\n",
    "print(full_stack)"
   ]
  },
  {
   "cell_type": "code",
   "execution_count": 8,
   "metadata": {},
   "outputs": [
    {
     "name": "stdout",
     "output_type": "stream",
     "text": [
      "None\n",
      "26\n"
     ]
    }
   ],
   "source": [
    "ages = [19, 22, 19, 24, 20, 25, 26, 24, 25, 24]\n",
    "# Sort the list and find the min and max age\n",
    "sort_ages = ages.sort()\n",
    "max_ages = max(ages)\n",
    "min_ages = min(ages)\n",
    "# Add the min age and the max age again to the list\n",
    "new_ages = ages + max_ages + min_ages\n",
    "# Find the median age (one middle item or two middle items divided by two)\n",
    "median_ages = new_ages // 2\n",
    "# Find the average age (sum of all items divided by their number )\n",
    "average_ages = sum(new_ages) // len(new_ages)\n",
    "# Find the range of the ages (max minus min)\n",
    "range_ages = max_ages - min_ages\n",
    "# Compare the value of (min - average) and (max - average), use abs() method\n",
    "\n",
    "# print()"
   ]
  },
  {
   "cell_type": "code",
   "execution_count": 5,
   "metadata": {},
   "outputs": [
    {
     "name": "stdout",
     "output_type": "stream",
     "text": [
      "27\n"
     ]
    }
   ],
   "source": [
    "# Find the middle country(ies) in the countries list\n",
    "middle_country = len(r\"/home/zeera/ArewaDS-30days-of-Python/data/countries.py\") // 2\n",
    "print(middle_country)\n",
    "# Divide the countries list into two equal lists if it is even if not one more country for the first half.\n",
    "# ['China', 'Russia', 'USA', 'Finland', 'Sweden', 'Norway', 'Denmark']. Unpack the first three countries and the rest as scandic countries."
   ]
  }
 ],
 "metadata": {
  "kernelspec": {
   "display_name": "base",
   "language": "python",
   "name": "python3"
  },
  "language_info": {
   "codemirror_mode": {
    "name": "ipython",
    "version": 3
   },
   "file_extension": ".py",
   "mimetype": "text/x-python",
   "name": "python",
   "nbconvert_exporter": "python",
   "pygments_lexer": "ipython3",
   "version": "3.11.5"
  }
 },
 "nbformat": 4,
 "nbformat_minor": 2
}
