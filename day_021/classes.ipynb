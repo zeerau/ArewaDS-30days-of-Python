{
 "cells": [
  {
   "cell_type": "code",
   "execution_count": 3,
   "metadata": {},
   "outputs": [
    {
     "name": "stdout",
     "output_type": "stream",
     "text": [
      "Asabeneh Yetayeh is 250 years old. He lives in Helsinki, Finland\n"
     ]
    }
   ],
   "source": [
    "class Person:\n",
    "      def __init__(self, firstname, lastname, age, country, city):\n",
    "          self.firstname = firstname\n",
    "          self.lastname = lastname\n",
    "          self.age = age\n",
    "          self.country = country\n",
    "          self.city = city\n",
    "      def person_info(self):\n",
    "        return f'{self.firstname} {self.lastname} is {self.age} years old. He lives in {self.city}, {self.country}'\n",
    "\n",
    "p = Person('Asabeneh', 'Yetayeh', 250, 'Finland', 'Helsinki')\n",
    "print(p.person_info())"
   ]
  },
  {
   "cell_type": "code",
   "execution_count": 4,
   "metadata": {},
   "outputs": [],
   "source": [
    "import statistics\n",
    "from collections import Counter"
   ]
  },
  {
   "cell_type": "code",
   "execution_count": 5,
   "metadata": {},
   "outputs": [],
   "source": [
    "class Statistics:\n",
    "    \n",
    "    def __init__(self, data):\n",
    "        self.data = data\n",
    "    \n",
    "    def mean(self):\n",
    "        return statistics.mean(self.data)\n",
    "    \n",
    "    def median(self):\n",
    "        return statistics.median(self.data)\n",
    "    \n",
    "    def mode(self):\n",
    "        return statistics.mode(self.data)\n",
    "    \n",
    "    def range(self):\n",
    "        return max(self.data) - min(self.data)\n",
    "    \n",
    "    def variance(self):\n",
    "        return statistics.variance(self.data)\n",
    "    \n",
    "    def stdev(self):\n",
    "        return statistics.stdev(self.data)\n",
    "    \n",
    "    def min(self):\n",
    "        return min(self.data)\n",
    "    \n",
    "    def max(self):\n",
    "        return max(self.data)\n",
    "    \n",
    "    def count(self):\n",
    "        return len(self.data)\n",
    "    \n",
    "    def percentile(self, p):\n",
    "        return statistics.quantiles(self.data, n=100)[p]\n",
    "    \n",
    "    def freq_dist(self):\n",
    "        freq = Counter(self.data)\n",
    "        return dict(freq)"
   ]
  },
  {
   "cell_type": "code",
   "execution_count": 7,
   "metadata": {},
   "outputs": [
    {
     "name": "stdout",
     "output_type": "stream",
     "text": [
      "Mean: 29.76\n",
      "Median: 29\n",
      "Mode: 26\n",
      "Range: 14\n",
      "Variance: 18.273333333333333\n",
      "Standard deviation: 4.2747319604079665\n",
      "Minimum: 24\n",
      "Maximum: 38\n",
      "Count: 25\n",
      "50th percentile: 29.52\n",
      "Frequency distribution: {31: 2, 26: 5, 34: 2, 37: 2, 27: 4, 32: 3, 24: 2, 33: 2, 25: 1, 38: 1, 29: 1}\n"
     ]
    }
   ],
   "source": [
    "ages = [31, 26, 34, 37, 27, 26, 32, 32, 26, 27, 27, 24, 32, 33, 27, 25, 26, 38, 37, 31, 34, 24, 33, 29, 26]\n",
    "\n",
    "\n",
    "stats = Statistics(ages)\n",
    "\n",
    "print(\"Mean:\", stats.mean())\n",
    "print(\"Median:\", stats.median())\n",
    "print(\"Mode:\", stats.mode())\n",
    "print(\"Range:\", stats.range())\n",
    "print(\"Variance:\", stats.variance())\n",
    "print(\"Standard deviation:\", stats.stdev())\n",
    "print(\"Minimum:\", stats.min())\n",
    "print(\"Maximum:\", stats.max())\n",
    "print(\"Count:\", stats.count())\n",
    "print(\"50th percentile:\", stats.percentile(50))\n",
    "print(\"Frequency distribution:\", stats.freq_dist())\n"
   ]
  },
  {
   "cell_type": "code",
   "execution_count": 8,
   "metadata": {},
   "outputs": [],
   "source": [
    "class PersonAccount:\n",
    "    \n",
    "    def __init__(self, firstname, lastname, incomes=None, expenses=None):\n",
    "        self.firstname = firstname\n",
    "        self.lastname = lastname\n",
    "        self.incomes = incomes or {}\n",
    "        self.expenses = expenses or {}\n",
    "        \n",
    "    def total_income(self):\n",
    "        return sum(self.incomes.values())\n",
    "    \n",
    "    def total_expense(self):\n",
    "        return sum(self.expenses.values())\n",
    "    \n",
    "    def account_info(self):\n",
    "        return f\"Account for {self.firstname} {self.lastname} - Balance: {self.account_balance():.2f}\"\n",
    "    \n",
    "    def add_income(self, description, amount):\n",
    "        self.incomes[description] = amount\n",
    "        \n",
    "    def add_expense(self, description, amount):\n",
    "        self.expenses[description] = amount\n",
    "        \n",
    "    def account_balance(self):\n",
    "        return self.total_income() - self.total_expense()\n",
    "\n"
   ]
  },
  {
   "cell_type": "code",
   "execution_count": 9,
   "metadata": {},
   "outputs": [
    {
     "name": "stdout",
     "output_type": "stream",
     "text": [
      "Account for John Doe - Balance: 6300.00\n",
      "Total Income: 8000\n",
      "Total Expense: 1700\n",
      "Account Balance: 6300\n"
     ]
    }
   ],
   "source": [
    "person = PersonAccount(\"John\", \"Doe\", {\"Salary\": 5000, \"Freelance\": 2000}, {\"Rent\": 1000, \"Food\": 500})\n",
    "\n",
    "# Add a new income and expense item\n",
    "person.add_income(\"Bonus\", 1000)\n",
    "person.add_expense(\"Entertainment\", 200)\n",
    "\n",
    "# Print the account information and balance\n",
    "print(person.account_info())\n",
    "print(\"Total Income:\", person.total_income())\n",
    "print(\"Total Expense:\", person.total_expense())\n",
    "print(\"Account Balance:\", person.account_balance())"
   ]
  }
 ],
 "metadata": {
  "kernelspec": {
   "display_name": "arewaDS_folder",
   "language": "python",
   "name": "python3"
  },
  "language_info": {
   "codemirror_mode": {
    "name": "ipython",
    "version": 3
   },
   "file_extension": ".py",
   "mimetype": "text/x-python",
   "name": "python",
   "nbconvert_exporter": "python",
   "pygments_lexer": "ipython3",
   "version": "3.10.13"
  }
 },
 "nbformat": 4,
 "nbformat_minor": 2
}
