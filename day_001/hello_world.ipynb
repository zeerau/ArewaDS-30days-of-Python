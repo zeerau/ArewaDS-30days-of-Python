{
 "cells": [
  {
   "cell_type": "code",
   "execution_count": 1,
   "metadata": {},
   "outputs": [
    {
     "name": "stdout",
     "output_type": "stream",
     "text": [
      "5\n"
     ]
    }
   ],
   "source": [
    " # comment starts with hash\n",
    " # this is a python comment, because it starts with a (#) symbol\n",
    "print(2 + 3)"
   ]
  },
  {
   "cell_type": "code",
   "execution_count": 1,
   "metadata": {},
   "outputs": [
    {
     "name": "stdout",
     "output_type": "stream",
     "text": [
      "7\n",
      "-1\n",
      "12\n",
      "3\n",
      "0.75\n",
      "81\n",
      "0\n"
     ]
    }
   ],
   "source": [
    "print(3 + 4)\n",
    "print(3 - 4)\n",
    "print(3* 4)\n",
    "print(3 % 4)\n",
    "print(3 / 4 )\n",
    "print(3 ** 4)\n",
    "print(3 // 4)"
   ]
  },
  {
   "cell_type": "code",
   "execution_count": 2,
   "metadata": {},
   "outputs": [
    {
     "name": "stdout",
     "output_type": "stream",
     "text": [
      "zarau bello baidu\n",
      "bello baidu\n",
      "nigerian\n",
      "i am enjoying 30 days of python\n"
     ]
    }
   ],
   "source": [
    "print('zarau bello baidu')\n",
    "print('bello baidu' )\n",
    "print('nigerian')\n",
    "print('i am enjoying 30 days of python')"
   ]
  },
  {
   "cell_type": "code",
   "execution_count": null,
   "metadata": {},
   "outputs": [],
   "source": [
    "print((2 - 3)** ())"
   ]
  }
 ],
 "metadata": {
  "kernelspec": {
   "display_name": "Python 3",
   "language": "python",
   "name": "python3"
  },
  "language_info": {
   "codemirror_mode": {
    "name": "ipython",
    "version": 3
   },
   "file_extension": ".py",
   "mimetype": "text/x-python",
   "name": "python",
   "nbconvert_exporter": "python",
   "pygments_lexer": "ipython3",
   "version": "3.11.6"
  }
 },
 "nbformat": 4,
 "nbformat_minor": 2
}
