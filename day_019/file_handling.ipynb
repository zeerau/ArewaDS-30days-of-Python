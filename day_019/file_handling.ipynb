{
 "cells": [
  {
   "cell_type": "code",
   "execution_count": 1,
   "metadata": {},
   "outputs": [
    {
     "name": "stdout",
     "output_type": "stream",
     "text": [
      "<class 'str'>\n",
      "{\n",
      "    \"name\": \"Asabeneh\",\n",
      "    \"country\": \"Finland\",\n",
      "    \"city\": \"Helsinki\",\n",
      "    \"skills\": [\n",
      "        \"JavaScrip\",\n",
      "        \"React\",\n",
      "        \"Python\"\n",
      "    ]\n",
      "}\n"
     ]
    }
   ],
   "source": [
    "import json\n",
    "# python dictionary\n",
    "person = {\n",
    "    \"name\": \"Asabeneh\",\n",
    "    \"country\": \"Finland\",\n",
    "    \"city\": \"Helsinki\",\n",
    "    \"skills\": [\"JavaScrip\", \"React\", \"Python\"]\n",
    "}\n",
    "# let's convert it to  json\n",
    "person_json = json.dumps(person, indent=4) # indent could be 2, 4, 8. It beautifies the json\n",
    "print(type(person_json))\n",
    "print(person_json)"
   ]
  },
  {
   "cell_type": "code",
   "execution_count": 9,
   "metadata": {},
   "outputs": [],
   "source": [
    "import sys\n",
    "\n",
    "sys.path.append(\"/home/zeera/ArewaDS-30days-of-Python/data\")\n",
    "import os\n",
    "import json\n",
    "import re\n",
    "from collections import Counter\n",
    "import string\n",
    "import stop_words as sw\n",
    "import math\n",
    "import csv"
   ]
  },
  {
   "cell_type": "code",
   "execution_count": 3,
   "metadata": {},
   "outputs": [
    {
     "name": "stdout",
     "output_type": "stream",
     "text": [
      "Obama:\n",
      "Number of words in text file:  2400\n",
      "Number of lines in text file:  66\n",
      "\n",
      "Michelle Obama:\n",
      "Number of words in text file:  2204\n",
      "Number of lines in text file:  83\n",
      "\n",
      "Trump:\n",
      "Number of words in text file:  1259\n",
      "Number of lines in text file:  48\n",
      "\n",
      "Melania Trump:\n",
      "Number of words in text file:  1375\n",
      "Number of lines in text file:  33\n"
     ]
    }
   ],
   "source": [
    "def counter(fname):\n",
    "    num_words = 0\n",
    "    num_lines = 0\n",
    "\n",
    "    with open(fname, \"r\") as f:\n",
    "        for line in f:\n",
    "            line = line.strip(os.linesep)\n",
    "            wordslist = line.split()\n",
    "            num_lines = num_lines + 1\n",
    "            num_words = num_words + len(wordslist)\n",
    "\n",
    "    print(\"Number of words in text file: \", num_words)\n",
    "\n",
    "    print(\"Number of lines in text file: \", num_lines)\n",
    "\n",
    "\n",
    "\n",
    "print(\"Obama:\")\n",
    "counter(\"/home/zeera/ArewaDS-30days-of-Python/data/obama_speech.txt\")\n",
    "print()\n",
    "print(\"Michelle Obama:\")\n",
    "counter(\"/home/zeera/ArewaDS-30days-of-Python/data/michelle_obama_speech.txt\")\n",
    "print()\n",
    "print(\"Trump:\")\n",
    "counter(\"/home/zeera/ArewaDS-30days-of-Python/data/donald_speech.txt\")\n",
    "print()\n",
    "print(\"Melania Trump:\")\n",
    "counter(\"/home/zeera/ArewaDS-30days-of-Python/data/melina_trump_speech.txt\")\n"
   ]
  },
  {
   "cell_type": "code",
   "execution_count": 4,
   "metadata": {},
   "outputs": [
    {
     "name": "stdout",
     "output_type": "stream",
     "text": [
      "[(91, 'English'), (45, 'French'), (25, 'Arabic'), (24, 'Spanish'), (9, 'Portuguese')]\n"
     ]
    }
   ],
   "source": [
    "def sort_dict_by_value(d, reverse=False):\n",
    "    return dict(sorted(d.items(), key=lambda x: x[1], reverse=reverse))\n",
    "\n",
    "def most_spoken_languages(fname, value):\n",
    "    f = open(fname, encoding=\"UTF8\")\n",
    "    to_analyse = json.load(f)\n",
    "\n",
    "    total_languages_initial = []\n",
    "    counts = {}\n",
    "    output_list = []\n",
    "\n",
    "    for i in to_analyse:\n",
    "        total_languages_initial.extend(i[\"languages\"])\n",
    "\n",
    "    for i in total_languages_initial:\n",
    "        counts[i] = counts.get(i, 0) + 1\n",
    "\n",
    "    counts = sort_dict_by_value(counts, True)\n",
    "\n",
    "    for i in list(counts.items())[:value]:\n",
    "        output_list.append(i)\n",
    "\n",
    "    f.close()\n",
    "\n",
    "    return [(sub[1], sub[0]) for sub in output_list]\n",
    "\n",
    "print(most_spoken_languages('/home/zeera/ArewaDS-30days-of-Python/data/countries_data.json',5))"
   ]
  },
  {
   "cell_type": "code",
   "execution_count": 10,
   "metadata": {},
   "outputs": [
    {
     "name": "stdout",
     "output_type": "stream",
     "text": [
      "[{'Country': 'China', 'Population': 1377422166}, {'Country': 'India', 'Population': 1295210000}, {'Country': 'United States of America', 'Population': 323947000}, {'Country': 'Indonesia', 'Population': 258705000}, {'Country': 'Brazil', 'Population': 206135893}]\n"
     ]
    }
   ],
   "source": [
    "def most_populated_countries(fname, value):\n",
    "    f = open(fname, encoding=\"UTF8\")\n",
    "    list_data = json.load(f)\n",
    "    populations = {}\n",
    "    final = []\n",
    "\n",
    "    for i in list_data:\n",
    "        populations[i[\"name\"]] = i[\"population\"]\n",
    "\n",
    "    populations = sort_dict_by_value(populations, True)\n",
    "\n",
    "    for data in list(populations.items())[:value]:\n",
    "        final.append({\"Country\": data[0], \"Population\": data[1]})\n",
    "\n",
    "    f.close()\n",
    "\n",
    "    return final\n",
    "print(most_populated_countries('/home/zeera/ArewaDS-30days-of-Python/data/countries_data.json',5))"
   ]
  },
  {
   "cell_type": "code",
   "execution_count": 11,
   "metadata": {},
   "outputs": [
    {
     "name": "stdout",
     "output_type": "stream",
     "text": [
      "['hu2@iupui.edu', 'joshua.ryan@asu.edu', 'mbreuker@loi.nl', 'bkirschn@umich.edu', 'thoppaymallika@fhda.edu', 'gjthomas@iupui.edu', 'nuno@ufp.pt', 'source@collab.sakaiproject.org', 'a.fish@lancaster.ac.uk', 'kimsooil@bu.edu', 'dsobiera@indiana.edu', 'john.ellis@rsmart.com', 'aaronz@vt.edu', 'bahollad@indiana.edu', 'sgithens@caret.cam.ac.uk', 'ray@media.berkeley.edu', 'josrodri@iupui.edu', 'louis@media.berkeley.edu', 'ggolden@umich.edu', 'csev@umich.edu', 'jimeng@umich.edu', 'dlhaines@umich.edu', 'ktsao@stanford.edu', 'jholtzman@berkeley.edu', 'mmmay@indiana.edu', 'lance@indiana.edu', 'jbush@rsmart.com', 'eli@media.berkeley.edu', 'jlrenfro@ucdavis.edu', 'jzaremba@unicon.net', 'tnguyen@iupui.edu', 'stuart.freeman@et.gatech.edu', 'ostermmg@whitman.edu', 'arwhyte@umich.edu', 'zach.thomas@txstate.edu', 'ajpoland@iupui.edu', 'david.horwitz@uct.ac.za', 'knoop@umich.edu', 'colin.clark@utoronto.ca', 'cwen@iupui.edu', 'chmaurer@iupui.edu', 'jleasia@umich.edu', 'gbhatnag@umich.edu', 'gopal.ramasammycook@gmail.com', 'antranig@caret.cam.ac.uk', 'wagnermr@iupui.edu', 'rjlowe@iupui.edu', 'stephen.marquard@uct.ac.za', 'gsilver@umich.edu', 'wang58@iupui.edu', 'ssmail@indiana.edu', 'ian@caret.cam.ac.uk', 'zqian@umich.edu']\n"
     ]
    }
   ],
   "source": [
    "def list_of_words(fname):\n",
    "    output = []\n",
    "    with open(fname, \"r\", encoding=\"UTF8\") as file:\n",
    "        for line in file:\n",
    "            for word in line.split():\n",
    "                output.append(word)\n",
    "    return list(set(output))\n",
    "def check_email(word):\n",
    "    if re.fullmatch(r\"\\b[A-Za-z0-9._%+-]+@[A-Za-z0-9.-]+\\.[A-Z|a-z]{2,}\\b\", word):\n",
    "        return True\n",
    "    else:\n",
    "        return False\n",
    "def extract_emails(fname):\n",
    "    words = list_of_words(fname)\n",
    "    email_list = []\n",
    "\n",
    "    for word in words:\n",
    "        if check_email(word):\n",
    "            email_list.append(word)\n",
    "\n",
    "    return email_list\n",
    "print(extract_emails('/home/zeera/ArewaDS-30days-of-Python/data/email_exchanges_big.txt'))"
   ]
  },
  {
   "cell_type": "code",
   "execution_count": null,
   "metadata": {},
   "outputs": [],
   "source": []
  }
 ],
 "metadata": {
  "kernelspec": {
   "display_name": "base",
   "language": "python",
   "name": "python3"
  },
  "language_info": {
   "codemirror_mode": {
    "name": "ipython",
    "version": 3
   },
   "file_extension": ".py",
   "mimetype": "text/x-python",
   "name": "python",
   "nbconvert_exporter": "python",
   "pygments_lexer": "ipython3",
   "version": "3.11.5"
  }
 },
 "nbformat": 4,
 "nbformat_minor": 2
}
