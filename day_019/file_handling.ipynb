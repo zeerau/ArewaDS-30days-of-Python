{
 "cells": [
  {
   "cell_type": "code",
   "execution_count": 1,
   "metadata": {},
   "outputs": [
    {
     "name": "stdout",
     "output_type": "stream",
     "text": [
      "<class 'str'>\n",
      "{\n",
      "    \"name\": \"Asabeneh\",\n",
      "    \"country\": \"Finland\",\n",
      "    \"city\": \"Helsinki\",\n",
      "    \"skills\": [\n",
      "        \"JavaScrip\",\n",
      "        \"React\",\n",
      "        \"Python\"\n",
      "    ]\n",
      "}\n"
     ]
    }
   ],
   "source": [
    "import json\n",
    "# python dictionary\n",
    "person = {\n",
    "    \"name\": \"Asabeneh\",\n",
    "    \"country\": \"Finland\",\n",
    "    \"city\": \"Helsinki\",\n",
    "    \"skills\": [\"JavaScrip\", \"React\", \"Python\"]\n",
    "}\n",
    "# let's convert it to  json\n",
    "person_json = json.dumps(person, indent=4) # indent could be 2, 4, 8. It beautifies the json\n",
    "print(type(person_json))\n",
    "print(person_json)"
   ]
  },
  {
   "cell_type": "code",
   "execution_count": 10,
   "metadata": {},
   "outputs": [],
   "source": [
    "import sys\n",
    "\n",
    "sys.path.append(\"/home/zeera/ArewaDS-30days-of-Python/data\")\n",
    "import os\n",
    "import json\n",
    "import re\n",
    "from collections import Counter\n",
    "import string\n",
    "from stop_words import stop_words as sw\n",
    "import math\n",
    "import csv"
   ]
  },
  {
   "cell_type": "code",
   "execution_count": 16,
   "metadata": {},
   "outputs": [
    {
     "name": "stdout",
     "output_type": "stream",
     "text": [
      "Obama:\n",
      "Number of words in text file:  2400\n",
      "Number of lines in text file:  66\n",
      "\n",
      "Michelle Obama:\n",
      "Number of words in text file:  2204\n",
      "Number of lines in text file:  83\n",
      "\n",
      "Trump:\n",
      "Number of words in text file:  1259\n",
      "Number of lines in text file:  48\n",
      "\n",
      "Melania Trump:\n",
      "Number of words in text file:  1375\n",
      "Number of lines in text file:  33\n"
     ]
    }
   ],
   "source": [
    "def counter(fname):\n",
    "    num_words = 0\n",
    "    num_lines = 0\n",
    "\n",
    "    with open(fname, \"r\") as f:\n",
    "        for line in f:\n",
    "            line = line.strip(os.linesep)\n",
    "            wordslist = line.split()\n",
    "            num_lines = num_lines + 1\n",
    "            num_words = num_words + len(wordslist)\n",
    "\n",
    "    print(\"Number of words in text file: \", num_words)\n",
    "\n",
    "    print(\"Number of lines in text file: \", num_lines)\n",
    "\n",
    "\n",
    "\n",
    "print(\"Obama:\")\n",
    "counter(\"/home/zeera/ArewaDS-30days-of-Python/data/obama_speech.txt\")\n",
    "print()\n",
    "print(\"Michelle Obama:\")\n",
    "counter(\"/home/zeera/ArewaDS-30days-of-Python/data/michelle_obama_speech.txt\")\n",
    "print()\n",
    "print(\"Trump:\")\n",
    "counter(\"/home/zeera/ArewaDS-30days-of-Python/data/donald_speech.txt\")\n",
    "print()\n",
    "print(\"Melania Trump:\")\n",
    "counter(\"/home/zeera/ArewaDS-30days-of-Python/data/melina_trump_speech.txt\")\n"
   ]
  },
  {
   "cell_type": "code",
   "execution_count": 18,
   "metadata": {},
   "outputs": [
    {
     "name": "stdout",
     "output_type": "stream",
     "text": [
      "[(91, 'English'), (45, 'French'), (25, 'Arabic'), (24, 'Spanish'), (9, 'Portuguese')]\n"
     ]
    }
   ],
   "source": [
    "def sort_dict_by_value(d, reverse=False):\n",
    "    return dict(sorted(d.items(), key=lambda x: x[1], reverse=reverse))\n",
    "\n",
    "def most_spoken_languages(fname, value):\n",
    "    f = open(fname, encoding=\"UTF8\")\n",
    "    to_analyse = json.load(f)\n",
    "\n",
    "    total_languages_initial = []\n",
    "    counts = {}\n",
    "    output_list = []\n",
    "\n",
    "    for i in to_analyse:\n",
    "        total_languages_initial.extend(i[\"languages\"])\n",
    "\n",
    "    for i in total_languages_initial:\n",
    "        counts[i] = counts.get(i, 0) + 1\n",
    "\n",
    "    counts = sort_dict_by_value(counts, True)\n",
    "\n",
    "    for i in list(counts.items())[:value]:\n",
    "        output_list.append(i)\n",
    "\n",
    "    f.close()\n",
    "\n",
    "    return [(sub[1], sub[0]) for sub in output_list]\n",
    "\n",
    "print(most_spoken_languages('/home/zeera/ArewaDS-30days-of-Python/data/countries_data.json',5))"
   ]
  },
  {
   "cell_type": "code",
   "execution_count": null,
   "metadata": {},
   "outputs": [],
   "source": []
  }
 ],
 "metadata": {
  "kernelspec": {
   "display_name": "base",
   "language": "python",
   "name": "python3"
  },
  "language_info": {
   "codemirror_mode": {
    "name": "ipython",
    "version": 3
   },
   "file_extension": ".py",
   "mimetype": "text/x-python",
   "name": "python",
   "nbconvert_exporter": "python",
   "pygments_lexer": "ipython3",
   "version": "3.11.5"
  }
 },
 "nbformat": 4,
 "nbformat_minor": 2
}
