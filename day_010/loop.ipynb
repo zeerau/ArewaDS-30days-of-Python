{
 "cells": [
  {
   "cell_type": "code",
   "execution_count": 1,
   "metadata": {},
   "outputs": [
    {
     "name": "stdout",
     "output_type": "stream",
     "text": [
      "0\n",
      "Next number should be  1\n",
      "1\n",
      "Next number should be  2\n",
      "2\n",
      "Next number should be  3\n",
      "3\n",
      "4\n",
      "Next number should be  5\n",
      "5\n",
      "loop's end\n",
      "outside the loop\n"
     ]
    }
   ],
   "source": [
    "numbers = (0,1,2,3,4,5)\n",
    "for number in numbers:\n",
    "    print(number)\n",
    "    if number == 3:\n",
    "        continue\n",
    "    print('Next number should be ', number + 1) if number != 5 else print(\"loop's end\") # for short hand conditions need both if and else statements\n",
    "print('outside the loop')"
   ]
  },
  {
   "cell_type": "code",
   "execution_count": 2,
   "metadata": {},
   "outputs": [
    {
     "name": "stdout",
     "output_type": "stream",
     "text": [
      "JavaScript\n",
      "React\n",
      "Node\n",
      "MongoDB\n",
      "Python\n"
     ]
    }
   ],
   "source": [
    "person = {\n",
    "    'first_name': 'Asabeneh',\n",
    "    'last_name': 'Yetayeh',\n",
    "    'age': 250,\n",
    "    'country': 'Finland',\n",
    "    'is_marred': True,\n",
    "    'skills': ['JavaScript', 'React', 'Node', 'MongoDB', 'Python'],\n",
    "    'address': {\n",
    "        'street': 'Space street',\n",
    "        'zipcode': '02210'\n",
    "    }\n",
    "}\n",
    "for key in person:\n",
    "    if key == 'skills':\n",
    "        for skill in person['skills']:\n",
    "            print(skill)"
   ]
  },
  {
   "cell_type": "code",
   "execution_count": 2,
   "metadata": {},
   "outputs": [
    {
     "name": "stdout",
     "output_type": "stream",
     "text": [
      "0\n",
      "1\n",
      "2\n",
      "3\n",
      "4\n",
      "5\n",
      "6\n",
      "7\n",
      "8\n",
      "9\n",
      "10\n",
      "0\n",
      "1\n",
      "2\n",
      "3\n",
      "4\n",
      "5\n",
      "6\n",
      "7\n",
      "8\n",
      "9\n",
      "10\n"
     ]
    }
   ],
   "source": [
    "# Iterate 0 to 10 using for loop, do the same using while loop.\n",
    "for i in range(11):\n",
    "    print(i)\n",
    "count = 0\n",
    "while count <= 10:\n",
    "    print(count)\n",
    "    count = count + 1\n",
    "# Iterate 10 to 0 using for loop, do the same using while loop.\n",
    "\n",
    "\n"
   ]
  }
 ],
 "metadata": {
  "kernelspec": {
   "display_name": "base",
   "language": "python",
   "name": "python3"
  },
  "language_info": {
   "codemirror_mode": {
    "name": "ipython",
    "version": 3
   },
   "file_extension": ".py",
   "mimetype": "text/x-python",
   "name": "python",
   "nbconvert_exporter": "python",
   "pygments_lexer": "ipython3",
   "version": "3.11.5"
  }
 },
 "nbformat": 4,
 "nbformat_minor": 2
}
