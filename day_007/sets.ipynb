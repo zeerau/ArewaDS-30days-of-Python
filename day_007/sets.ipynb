{
 "cells": [
  {
   "cell_type": "code",
   "execution_count": 1,
   "metadata": {},
   "outputs": [],
   "source": [
    "# sets\n",
    "it_companies = {'Facebook', 'Google', 'Microsoft', 'Apple', 'IBM', 'Oracle', 'Amazon'}\n",
    "A = {19, 22, 24, 20, 25, 26}\n",
    "B = {19, 22, 20, 25, 26, 24, 28, 27}\n",
    "age = [22, 19, 24, 25, 26, 24, 25, 24]"
   ]
  },
  {
   "cell_type": "code",
   "execution_count": null,
   "metadata": {},
   "outputs": [],
   "source": [
    "# Find the length of the set it_companies\n",
    "print(len(it_companies))\n",
    "# Add 'Twitter' to it_companies\n",
    "it_companies.add('Twitter')\n",
    "# Insert multiple IT companies at once to the set it_companies\n",
    "it_companies.update(['Bloomberg','Paypal','Techcabal','Instagram'])\n",
    "# Remove one of the companies from the set it_companies\n",
    "it_companies.remove('Paypal')\n",
    "# What is the difference between remove and discard\n",
    "# ans: remove raise an error if item not found while discard doesn't"
   ]
  },
  {
   "cell_type": "code",
   "execution_count": 2,
   "metadata": {},
   "outputs": [
    {
     "name": "stdout",
     "output_type": "stream",
     "text": [
      "{19, 20, 22, 24, 25, 26, 27, 28}\n",
      "{19, 20, 22, 24, 25, 26}\n",
      "True\n",
      "False\n",
      "{27, 28}\n"
     ]
    }
   ],
   "source": [
    "# Join A and B\n",
    "print(A.union(B))\n",
    "# Find A intersection B\n",
    "print(A.intersection(B))\n",
    "# Is A subset of B\n",
    "print(A.issubset(B))\n",
    "# Are A and B disjoint sets\n",
    "print(A.isdisjoint(B))\n",
    "# Join A with B and B with A\n",
    "# What is the symmetric difference between A and B\n",
    "print(A.symmetric_difference(B))\n",
    "# Delete the sets completely"
   ]
  },
  {
   "cell_type": "code",
   "execution_count": 9,
   "metadata": {},
   "outputs": [
    {
     "name": "stdout",
     "output_type": "stream",
     "text": [
      "the length of list is 8 and the length of set is 5\n",
      "['I', 'am', 'a', 'teacher', 'and', 'I', 'love', 'to', 'inspire', 'and', 'teach', 'people']\n",
      "{'people', 'teach', 'a', 'love', 'I', 'inspire', 'teacher', 'and', 'am', 'to'}\n"
     ]
    }
   ],
   "source": [
    "# Convert the ages to a set and compare the length of the list and the set, which one is bigger?\n",
    "list_age = set(age)\n",
    "print('the length of list is',len(age) ,'and the length of set is',len(list_age))\n",
    "# Explain the difference between the following data types: string, list, tuple and set\n",
    "# I am a teacher and I love to inspire and teach people. How many unique words have been used in the sentence? Use the split methods and set to get the unique words.\n",
    "sentence = 'I am a teacher and I love to inspire and teach people'\n",
    "split_sentence = sentence.split(' ')\n",
    "print(split_sentence)\n",
    "set_sentence = set(split_sentence)\n",
    "print(set_sentence)"
   ]
  }
 ],
 "metadata": {
  "kernelspec": {
   "display_name": "base",
   "language": "python",
   "name": "python3"
  },
  "language_info": {
   "codemirror_mode": {
    "name": "ipython",
    "version": 3
   },
   "file_extension": ".py",
   "mimetype": "text/x-python",
   "name": "python",
   "nbconvert_exporter": "python",
   "pygments_lexer": "ipython3",
   "version": "3.11.5"
  }
 },
 "nbformat": 4,
 "nbformat_minor": 2
}
