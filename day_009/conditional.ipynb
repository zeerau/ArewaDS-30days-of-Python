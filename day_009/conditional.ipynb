{
 "cells": [
  {
   "cell_type": "code",
   "execution_count": 2,
   "metadata": {},
   "outputs": [
    {
     "name": "stdout",
     "output_type": "stream",
     "text": [
      "You are old enough to drive\n"
     ]
    }
   ],
   "source": [
    "\n",
    "# Get user input using input(“Enter your age: ”). If user is 18 or older, give feedback: You are old enough to drive. If below 18 give feedback to wait for the missing amount of years.\n",
    "age = int(input('Enter your age:' ))\n",
    "driving_age = 18\n",
    "waiting_age = driving_age - age\n",
    "if age >= driving_age:\n",
    "    print('You are old enough to drive')\n",
    "\n",
    "else:\n",
    "    print('wait for',waiting_age,'years')"
   ]
  },
  {
   "cell_type": "code",
   "execution_count": 10,
   "metadata": {},
   "outputs": [
    {
     "name": "stdout",
     "output_type": "stream",
     "text": [
      "i am older than you\n"
     ]
    }
   ],
   "source": [
    "# Compare the values of my_age and your_age using if … else. Who is older (me or you)? Use input(“Enter your age: ”) to get the age as input. You can use a nested condition to print 'year' for 1 year difference in age, 'years' for bigger differences, and a custom text if my_age = your_age.\n",
    "your_age = int(input('Enter your age'))\n",
    "my_age = int(input('my age'))\n",
    "\n",
    "if my_age == your_age:\n",
    "    print('we are age mate')\n",
    "elif your_age > my_age :\n",
    "    if your_age + 1:\n",
    "        print('you are',your_age - my_age,'years older than me')\n",
    "    else:\n",
    "        print('you are',your_age - my_age,'years older than me')\n",
    "else:\n",
    "    print('i am older than you')"
   ]
  },
  {
   "cell_type": "code",
   "execution_count": 1,
   "metadata": {},
   "outputs": [
    {
     "name": "stdout",
     "output_type": "stream",
     "text": [
      "4 is less than 6\n"
     ]
    }
   ],
   "source": [
    "# Get two numbers from the user using input prompt. If a is greater than b return a is greater than b, if a is less b return a is smaller than b, else a is equal to b. \n",
    "a = int(input('Enter number one'))\n",
    "b = int(input('Enter number two'))\n",
    "\n",
    "if a > b:\n",
    "    print(a,'is greater than',b)\n",
    "elif a < b:\n",
    "    print(a,'is less than',b)\n",
    "else:\n",
    "    print(a,'is equal to',b)"
   ]
  },
  {
   "cell_type": "code",
   "execution_count": 2,
   "metadata": {},
   "outputs": [
    {
     "name": "stdout",
     "output_type": "stream",
     "text": [
      "Your Grade Is A\n"
     ]
    }
   ],
   "source": [
    "# Write a code which gives grade to students according to theirs scores:\n",
    "\n",
    "# 80-100, A\n",
    "# 70-89, B\n",
    "# 60-69, C\n",
    "# 50-59, D\n",
    "# 0-49, F\n",
    "\n",
    "score = int(input('Enter your score'))\n",
    "\n",
    "if score >= 80 and score <= 100:\n",
    "    print('Your Grade Is A')\n",
    "elif score >= 70 and score <= 79:\n",
    "    print('Your Grade Is B')\n",
    "elif score >= 60 and score <= 69:\n",
    "    print('Your Grade Is C')\n",
    "elif score >= 50 and score <= 59:\n",
    "    print('Your Grade Is D')\n",
    "else :\n",
    "    print('Your Grade Is F')"
   ]
  },
  {
   "cell_type": "code",
   "execution_count": 5,
   "metadata": {},
   "outputs": [
    {
     "name": "stdout",
     "output_type": "stream",
     "text": [
      "The season is Spring\n"
     ]
    }
   ],
   "source": [
    "# Check if the season is Autumn, Winter, Spring or Summer. If the user input is: September, October or November, the season is Autumn. December, January or February, the season is Winter. March, April or May, the season is Spring June, July or August, the season is Summer\n",
    "\n",
    "month = input('Enter the month')\n",
    "\n",
    "if month == 'september' or month == 'october' or month == 'november':\n",
    "    print('The season is Autumn')\n",
    "elif month == 'december' or month == 'january' or month == 'february':\n",
    "    print('The season is Winter')\n",
    "elif month == 'march' or month == 'april' or month == 'may':\n",
    "    print('The season is Spring')\n",
    "else:\n",
    "    print('The season is Summer')"
   ]
  },
  {
   "cell_type": "code",
   "execution_count": 7,
   "metadata": {},
   "outputs": [
    {
     "name": "stdout",
     "output_type": "stream",
     "text": [
      "['banana', 'orange', 'mango', 'lemon', 'apple']\n"
     ]
    }
   ],
   "source": [
    "# If a fruit doesn't exist in the list add the fruit to the list and print the modified list. If the fruit exists print('That fruit already exist in the list')\n",
    "\n",
    "fruit = input('Enter name of fruit')\n",
    "fruits = ['banana', 'orange', 'mango', 'lemon']\n",
    "\n",
    "if fruit not in fruits:\n",
    "    fruits.append(fruit)\n",
    "    print(fruits)\n",
    "else:\n",
    "    print('That fruit already exist in the list')"
   ]
  }
 ],
 "metadata": {
  "kernelspec": {
   "display_name": "base",
   "language": "python",
   "name": "python3"
  },
  "language_info": {
   "codemirror_mode": {
    "name": "ipython",
    "version": 3
   },
   "file_extension": ".py",
   "mimetype": "text/x-python",
   "name": "python",
   "nbconvert_exporter": "python",
   "pygments_lexer": "ipython3",
   "version": "3.11.5"
  }
 },
 "nbformat": 4,
 "nbformat_minor": 2
}
