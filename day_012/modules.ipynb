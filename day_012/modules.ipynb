{
 "cells": [
  {
   "cell_type": "code",
   "execution_count": 3,
   "metadata": {},
   "outputs": [],
   "source": [
    "import os"
   ]
  },
  {
   "cell_type": "code",
   "execution_count": 4,
   "metadata": {},
   "outputs": [
    {
     "data": {
      "text/plain": [
       "'/home/zeera/ArewaDS-30days-of-Python/day_012'"
      ]
     },
     "execution_count": 4,
     "metadata": {},
     "output_type": "execute_result"
    }
   ],
   "source": [
    "os.getcwd()\n"
   ]
  },
  {
   "cell_type": "code",
   "execution_count": 5,
   "metadata": {},
   "outputs": [
    {
     "name": "stdout",
     "output_type": "stream",
     "text": [
      "21.09090909090909\n",
      "22\n",
      "20\n",
      "6.106628291529549\n"
     ]
    }
   ],
   "source": [
    "from statistics import * # importing all the statistics modules\n",
    "ages = [20, 20, 4, 24, 25, 22, 26, 20, 23, 22, 26]\n",
    "print(mean(ages))       # ~22.9\n",
    "print(median(ages))     # 23\n",
    "print(mode(ages))       # 20\n",
    "print(stdev(ages))"
   ]
  },
  {
   "cell_type": "code",
   "execution_count": 6,
   "metadata": {},
   "outputs": [
    {
     "name": "stdout",
     "output_type": "stream",
     "text": [
      "abcdefghijklmnopqrstuvwxyzABCDEFGHIJKLMNOPQRSTUVWXYZ\n",
      "0123456789\n",
      "!\"#$%&'()*+,-./:;<=>?@[\\]^_`{|}~\n"
     ]
    }
   ],
   "source": [
    "import string\n",
    "print(string.ascii_letters) # abcdefghijklmnopqrstuvwxyzABCDEFGHIJKLMNOPQRSTUVWXYZ\n",
    "print(string.digits)        # 0123456789\n",
    "print(string.punctuation)"
   ]
  },
  {
   "cell_type": "code",
   "execution_count": 7,
   "metadata": {},
   "outputs": [
    {
     "name": "stdout",
     "output_type": "stream",
     "text": [
      "0.2534040742274889\n",
      "17\n"
     ]
    }
   ],
   "source": [
    "from random import random, randint\n",
    "print(random())   # it doesn't take any arguments; it returns a value between 0 and 0.9999\n",
    "print(randint(5, 20)) # it returns a random integer number between [5, 20] inclusive"
   ]
  },
  {
   "cell_type": "code",
   "execution_count": 8,
   "metadata": {},
   "outputs": [
    {
     "name": "stdout",
     "output_type": "stream",
     "text": [
      "slp0o1\n"
     ]
    }
   ],
   "source": [
    "# Writ a function which generates a six digit/character random_user_id\n",
    "\n",
    "import random\n",
    "import string\n",
    "\n",
    "def random_user_id():\n",
    "    user_id = ''.join(random.choices(string.ascii_lowercase + string.digits,k=6))\n",
    "    return user_id\n",
    "print(random_user_id())"
   ]
  },
  {
   "cell_type": "code",
   "execution_count": 9,
   "metadata": {},
   "outputs": [
    {
     "name": "stdout",
     "output_type": "stream",
     "text": [
      "lhzb9\n",
      "n35xu\n",
      "mx5rl\n",
      "wz9l9\n",
      "muyhf\n",
      "3i0ja\n",
      "sx3p1\n",
      "sx3p1\n"
     ]
    }
   ],
   "source": [
    "# Modify the previous task. Declare a function named user_id_gen_by_user. It doesn’t take any parameters but it takes two inputs using input(). One of the inputs is the number of characters and the second input is the number of IDs which are supposed to be generated\n",
    "\n",
    "def user_id_gen_by_user():\n",
    "    num_characters = int(input('Enter the number of characters'))\n",
    "    num_id = int(input('Enter the number of ids to generate'))\n",
    "    characters = string.ascii_lowercase + string.digits\n",
    "   \n",
    "    for i in range(num_id):\n",
    "        i = ''.join(random.choices(characters,k=num_characters))\n",
    "        print(i)\n",
    "    return i\n",
    "\n",
    "print(user_id_gen_by_user())\n"
   ]
  },
  {
   "cell_type": "code",
   "execution_count": 10,
   "metadata": {},
   "outputs": [
    {
     "name": "stdout",
     "output_type": "stream",
     "text": [
      "rgb(245,52,125)\n"
     ]
    }
   ],
   "source": [
    "# Write a function named rgb_color_gen. It will generate rgb colors (3 values ranging from 0 to 255 each)\n",
    "def rgb_color_gen():\n",
    "    r = random.randint(0,255)\n",
    "    g = random.randint(0,255)\n",
    "    b = random.randint(0,255)\n",
    "    return f'rgb({r},{g},{b})'\n",
    "print(rgb_color_gen())"
   ]
  },
  {
   "cell_type": "code",
   "execution_count": 21,
   "metadata": {},
   "outputs": [
    {
     "name": "stdout",
     "output_type": "stream",
     "text": [
      "['#f2ef31', '#56ea36', '#52688b', '#3f1a84', '#e7f75e', '#b99715', '#057caa']\n"
     ]
    }
   ],
   "source": [
    "# Write a function list_of_hexa_colors which returns any number of hexadecimal colors in an array (six hexadecimal numbers written after #. Hexadecimal numeral system is made out of 16 symbols, 0-9 and first 6 letters of the alphabet, a-f. Check the task 6 for output examples).\n",
    "\n",
    "def list_of_hexa_colors(color):\n",
    "    hexa_chars = string.hexdigits[:16] \n",
    "    hexa_colors = []\n",
    "    for i in range(color):\n",
    "        i = '#' + ''.join(random.choices(hexa_chars,k=6)) \n",
    "        hexa_colors.append(i)\n",
    "    return  hexa_colors\n",
    "print(list_of_hexa_colors(7))"
   ]
  },
  {
   "cell_type": "code",
   "execution_count": 28,
   "metadata": {},
   "outputs": [
    {
     "name": "stdout",
     "output_type": "stream",
     "text": [
      "['( 195, 54, 66)', '( 23, 175, 158)', '( 210, 216, 139)', '( 6, 153, 232)', '( 255, 99, 180)']\n"
     ]
    }
   ],
   "source": [
    "# Write a function list_of_rgb_colors which returns any number of RGB colors in an array:\n",
    "def list_of_rgb_colors(num_color):\n",
    "    rgb_colors = []\n",
    "    for i in range(num_color):\n",
    "         r = random.randint(0,255)\n",
    "         g = random.randint(0,255)\n",
    "         b = random.randint(0,255)\n",
    "         i = f'( {r}, {g}, {b})'\n",
    "         rgb_colors.append(i)\n",
    "    return rgb_colors\n",
    "print(list_of_rgb_colors(5))"
   ]
  },
  {
   "cell_type": "code",
   "execution_count": null,
   "metadata": {},
   "outputs": [],
   "source": []
  }
 ],
 "metadata": {
  "kernelspec": {
   "display_name": "base",
   "language": "python",
   "name": "python3"
  },
  "language_info": {
   "codemirror_mode": {
    "name": "ipython",
    "version": 3
   },
   "file_extension": ".py",
   "mimetype": "text/x-python",
   "name": "python",
   "nbconvert_exporter": "python",
   "pygments_lexer": "ipython3",
   "version": "3.11.5"
  }
 },
 "nbformat": 4,
 "nbformat_minor": 2
}
