{
 "cells": [
  {
   "cell_type": "code",
   "execution_count": 1,
   "metadata": {},
   "outputs": [],
   "source": [
    "# Create an empty dictionary called dog\n",
    "# Add name, color, breed, legs, age to the dog dictionary\n",
    "# Create a student dictionary and add first_name, last_name, gender, age, marital status, skills, country, city and address as keys for the dictionary\n",
    "# Get the length of the student dictionary\n",
    "# Get the value of skills and check the data type, it should be a list\n",
    "# Modify the skills values by adding one or two skills\n",
    "# Get the dictionary keys as a list\n",
    "# Get the dictionary values as a list\n",
    "# Change the dictionary to a list of tuples using items() method\n",
    "# Delete one of the items in the dictionary\n",
    "# Delete one of the dictionaries"
   ]
  },
  {
   "cell_type": "code",
   "execution_count": 2,
   "metadata": {},
   "outputs": [],
   "source": [
    "# Create an empty dictionary called dog\n",
    "# Add name, color, breed, legs, age to the dog dictionary\n",
    "\n",
    "dog = {\n",
    "    'name': 'puppy',\n",
    "    'color': 'brown',\n",
    "    'breed': 'labrador',\n",
    "    'legs': 4,\n",
    "    'age': 2\n",
    "}"
   ]
  },
  {
   "cell_type": "code",
   "execution_count": 5,
   "metadata": {},
   "outputs": [
    {
     "name": "stdout",
     "output_type": "stream",
     "text": [
      "9\n",
      "['HTML', 'CSS', 'JAVASCRIPT', 'PYTHON', 'SQL']\n",
      "<class 'list'>\n",
      "{'first_name': 'fateema', 'last_name': 'ashir', 'gender': 'female', 'age': 25, 'marital_status': True, 'skills': ['HTML', 'CSS', 'JAVASCRIPT', 'PYTHON', 'SQL', 'excel'], 'country': 'Nigeria', 'city': 'Jega', 'address': {'street': 'no 2 alero housing estate', 'zip_code': 101010}}\n"
     ]
    }
   ],
   "source": [
    "# Create a student dictionary and add first_name, last_name, gender, age, marital status, skills, country, city and address as keys for the dictionary\n",
    "\n",
    "\n",
    "student = {\n",
    "    'first_name': 'fateema',\n",
    "    'last_name': 'ashir',\n",
    "    'gender': 'female',\n",
    "    'age': 25,\n",
    "    'marital_status': True,\n",
    "    'skills': ['HTML','CSS','JAVASCRIPT','PYTHON','SQL'],\n",
    "    'country': 'Nigeria',\n",
    "    'city': 'Jega',\n",
    "    'address':{\n",
    "        'street': 'no 2 alero housing estate',\n",
    "        'zip_code': 101010\n",
    "\n",
    "    }\n",
    "}\n",
    "# Get the length of the student dictionary\n",
    "print(len(student))\n",
    "\n",
    "# Get the value of skills and check the data type, it should be a list\n",
    "print(student.get('skills'))\n",
    "print(type(student['skills']))\n",
    "\n",
    "# Modify the skills values by adding one or two skills\n",
    "student['skills'].append('excel')\n",
    "\n",
    "print(student)"
   ]
  },
  {
   "cell_type": "code",
   "execution_count": null,
   "metadata": {},
   "outputs": [],
   "source": [
    "# Get the dictionary keys as a list\n",
    "keys = student.keys()\n",
    "# Get the dictionary values as a list\n",
    "values = student.values()\n",
    "# Change the dictionary to a list of tuples using items() method\n",
    "item_tuples = student.items()\n",
    "# Delete one of the items in the dictionary\n",
    "student.popitem()\n",
    "# Delete one of the dictionarie\n",
    "del dog"
   ]
  }
 ],
 "metadata": {
  "kernelspec": {
   "display_name": "base",
   "language": "python",
   "name": "python3"
  },
  "language_info": {
   "codemirror_mode": {
    "name": "ipython",
    "version": 3
   },
   "file_extension": ".py",
   "mimetype": "text/x-python",
   "name": "python",
   "nbconvert_exporter": "python",
   "pygments_lexer": "ipython3",
   "version": "3.11.5"
  }
 },
 "nbformat": 4,
 "nbformat_minor": 2
}
