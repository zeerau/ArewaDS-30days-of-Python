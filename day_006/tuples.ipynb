{
 "cells": [
  {
   "cell_type": "code",
   "execution_count": 3,
   "metadata": {},
   "outputs": [
    {
     "name": "stdout",
     "output_type": "stream",
     "text": [
      "('khadija', 'ummu', 'basma', 'safiyya', 'abdul-hakim', 'uwaisu', 'jaafar')\n",
      "7\n",
      "['khadija', 'ummu', 'basma', 'safiyya', 'abdul-hakim', 'uwaisu', 'jaafar', 'amina', 'bello']\n"
     ]
    }
   ],
   "source": [
    "emp = ()\n",
    "sisters = ('khadija','ummu','basma','safiyya')\n",
    "brothers = ('abdul-hakim','uwaisu','jaafar')\n",
    "siblings = sisters + brothers\n",
    "print(siblings)\n",
    "print(len(siblings))\n",
    "siblings = list(siblings)\n",
    "parent = ['amina','bello']\n",
    "family_members = siblings + parent\n",
    "print(family_members)"
   ]
  },
  {
   "cell_type": "code",
   "execution_count": 6,
   "metadata": {},
   "outputs": [],
   "source": [
    "*siblings,mother,father = family_members"
   ]
  },
  {
   "cell_type": "code",
   "execution_count": 2,
   "metadata": {},
   "outputs": [
    {
     "name": "stdout",
     "output_type": "stream",
     "text": [
      "('watermelon', 'banana', 'orange', 'mango', 'spinach', 'tomato', 'cabbage', 'cucumber', 'meat', 'fish', 'egg', 'milk')\n",
      "['mango', 'spinach', 'tomato', 'cabbage', 'cucumber', 'meat']\n"
     ]
    }
   ],
   "source": [
    "fruits = ('watermelon','banana','orange','mango')\n",
    "vegetables = ('spinach','tomato','cabbage','cucumber')\n",
    "animal_products = ('meat','fish','egg','milk')\n",
    "\n",
    "food_stuff_tp = fruits + vegetables + animal_products\n",
    "print(food_stuff_tp)\n",
    "food_stuff_lst = list(food_stuff_tp)\n",
    "middle_item = food_stuff_lst[5:6]\n",
    "print(food_stuff_lst[3:-3])\n",
    "del food_stuff_tp\n",
    "\n"
   ]
  },
  {
   "cell_type": "code",
   "execution_count": 3,
   "metadata": {},
   "outputs": [
    {
     "name": "stdout",
     "output_type": "stream",
     "text": [
      "False\n",
      "True\n"
     ]
    }
   ],
   "source": [
    "nordic_countries = ('Denmark', 'Finland','Iceland', 'Norway', 'Sweden')\n",
    "print('Estonia' in nordic_countries)\n",
    "print('Iceland' in nordic_countries)"
   ]
  }
 ],
 "metadata": {
  "kernelspec": {
   "display_name": "base",
   "language": "python",
   "name": "python3"
  },
  "language_info": {
   "codemirror_mode": {
    "name": "ipython",
    "version": 3
   },
   "file_extension": ".py",
   "mimetype": "text/x-python",
   "name": "python",
   "nbconvert_exporter": "python",
   "pygments_lexer": "ipython3",
   "version": "3.11.5"
  }
 },
 "nbformat": 4,
 "nbformat_minor": 2
}
