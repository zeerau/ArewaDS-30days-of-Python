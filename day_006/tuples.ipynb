{
 "cells": [
  {
   "cell_type": "code",
   "execution_count": 3,
   "metadata": {},
   "outputs": [
    {
     "name": "stdout",
     "output_type": "stream",
     "text": [
      "('khadija', 'ummu', 'basma', 'safiyya', 'abdul-hakim', 'uwaisu', 'jaafar')\n",
      "7\n",
      "['khadija', 'ummu', 'basma', 'safiyya', 'abdul-hakim', 'uwaisu', 'jaafar', 'amina', 'bello']\n"
     ]
    }
   ],
   "source": [
    "emp = ()\n",
    "sisters = ('khadija','ummu','basma','safiyya')\n",
    "brothers = ('abdul-hakim','uwaisu','jaafar')\n",
    "siblings = sisters + brothers\n",
    "print(siblings)\n",
    "print(len(siblings))\n",
    "siblings = list(siblings)\n",
    "parent = ['amina','bello']\n",
    "family_members = siblings + parent\n",
    "print(family_members)"
   ]
  },
  {
   "cell_type": "code",
   "execution_count": 6,
   "metadata": {},
   "outputs": [],
   "source": [
    "*siblings,mother,father = family_members"
   ]
  },
  {
   "cell_type": "code",
   "execution_count": null,
   "metadata": {},
   "outputs": [],
   "source": []
  }
 ],
 "metadata": {
  "kernelspec": {
   "display_name": "base",
   "language": "python",
   "name": "python3"
  },
  "language_info": {
   "codemirror_mode": {
    "name": "ipython",
    "version": 3
   },
   "file_extension": ".py",
   "mimetype": "text/x-python",
   "name": "python",
   "nbconvert_exporter": "python",
   "pygments_lexer": "ipython3",
   "version": "3.11.5"
  }
 },
 "nbformat": 4,
 "nbformat_minor": 2
}
